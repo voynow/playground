{
 "cells": [
  {
   "cell_type": "code",
   "execution_count": 2,
   "metadata": {},
   "outputs": [],
   "source": [
    "%reload_ext autoreload\n",
    "%autoreload 2"
   ]
  },
  {
   "cell_type": "code",
   "execution_count": 3,
   "metadata": {},
   "outputs": [
    {
     "name": "stderr",
     "output_type": "stream",
     "text": [
      "/Users/jamievoynow/Desktop/code/playground/venv/lib/python3.9/site-packages/urllib3/__init__.py:34: NotOpenSSLWarning: urllib3 v2 only supports OpenSSL 1.1.1+, currently the 'ssl' module is compiled with 'LibreSSL 2.8.3'. See: https://github.com/urllib3/urllib3/issues/3020\n",
      "  warnings.warn(\n"
     ]
    }
   ],
   "source": [
    "import pypi_api"
   ]
  },
  {
   "cell_type": "code",
   "execution_count": 16,
   "metadata": {},
   "outputs": [],
   "source": [
    "import os\n",
    "\n",
    "def disp_size_of(path):\n",
    "    total_size = 0\n",
    "    for dirpath, dirnames, filenames in os.walk(path):\n",
    "        for f in filenames:\n",
    "            fp = os.path.join(dirpath, f)\n",
    "            # Skip if it is symbolic link\n",
    "            if not os.path.islink(fp):\n",
    "                total_size += os.path.getsize(fp)\n",
    "\n",
    "    # Convert bytes to megabytes\n",
    "    total_size_mb = total_size / (1024 * 1024)\n",
    "    print(f\"The total size of {path} is: {total_size_mb:.2f} MB\")"
   ]
  },
  {
   "cell_type": "code",
   "execution_count": 18,
   "metadata": {},
   "outputs": [],
   "source": [
    "# get all packages\n",
    "packages = pypi_api.get_packages()\n",
    "\n",
    "# collect a subet of package metadata\n",
    "package_metadata = {}\n",
    "for package in packages[1000:1100]:\n",
    "    package_metadata[package] = pypi_api.get_package_metadata(package)"
   ]
  },
  {
   "cell_type": "code",
   "execution_count": 19,
   "metadata": {},
   "outputs": [
    {
     "name": "stdout",
     "output_type": "stream",
     "text": [
      "(abb-motion-program-exec) No source distribution found for abb-motion-program-exec-0.7.0\n",
      "(abb-robot-client) No source distribution found for abb-robot-client-0.3.0\n",
      "(abb-robotraconteur-driver-hmp) No source distribution found for abb-robotraconteur-driver-hmp-0.2.0\n",
      "(abbrs) No source distribution found for abbrs-0.0.15\n",
      "(abbyInPython) No source distribution found for abbyInPython-1.0.0\n",
      "(abc-0329) No source distribution found for abc-0329-1687508180\n",
      "(abc-0329-linux) No source distribution found for abc-0329-linux-1627139781\n",
      "(abc1) Failed to read downloads/abc1.tar.gz. It may not be a tar archive.\n",
      "(ab_calc) Failed to read downloads/ab_calc.tar.gz. It may not be a tar archive.\n",
      "(abc-analysis) No source distribution found for abc-analysis-0.1.22\n",
      "(abcd-0329) No source distribution found for abcd-0329-1645514386\n",
      "(abcdefg) Failed to read downloads/abcdefg.tar.gz. It may not be a tar archive.\n",
      "(abcdmini) Failed to retrieve metadata for abcdmini: Not Found\n",
      "(abcgh) No source distribution found for abcgh-1.0.0\n",
      "(abc-matlab.py) No source distribution found for abc-matlab.py-0.1\n",
      "(abcmodel) Failed to retrieve metadata for abcmodel: Not Found\n",
      "(abcp-api-beta) Failed to retrieve metadata for abcp-api-beta: Not Found\n",
      "(abc-property) No source distribution found for abc-property-1.0\n",
      "(abc-storage) No source distribution found for abc-storage-0.1.0\n",
      "(abcvoting) No source distribution found for abcvoting-2.8.0\n",
      "(abcXYZ) No source distribution found for abcXYZ-0.1\n",
      "(abcyui) Failed to read downloads/abcyui.tar.gz. It may not be a tar archive.\n",
      "The total size of downloads is: 498.42 MB\n"
     ]
    }
   ],
   "source": [
    "# download source code for each package\n",
    "download_dir = 'downloads'\n",
    "for name, metadata in package_metadata.items():\n",
    "    \n",
    "    # Skip packages with errors\n",
    "    if 'msg' in metadata:\n",
    "        print(f\"({name}) {metadata['msg']}\")\n",
    "        continue\n",
    "    # Download source code\n",
    "    pypi_api.download_source_code(metadata, download_dir)\n",
    "\n",
    "# Display the size of the download directory\n",
    "disp_size_of(download_dir)"
   ]
  },
  {
   "cell_type": "code",
   "execution_count": null,
   "metadata": {},
   "outputs": [],
   "source": []
  }
 ],
 "metadata": {
  "kernelspec": {
   "display_name": "venv",
   "language": "python",
   "name": "python3"
  },
  "language_info": {
   "codemirror_mode": {
    "name": "ipython",
    "version": 3
   },
   "file_extension": ".py",
   "mimetype": "text/x-python",
   "name": "python",
   "nbconvert_exporter": "python",
   "pygments_lexer": "ipython3",
   "version": "3.9.6"
  }
 },
 "nbformat": 4,
 "nbformat_minor": 2
}
