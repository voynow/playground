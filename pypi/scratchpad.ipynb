{
 "cells": [
  {
   "cell_type": "code",
   "execution_count": 2,
   "metadata": {},
   "outputs": [],
   "source": [
    "%reload_ext autoreload\n",
    "%autoreload 2"
   ]
  },
  {
   "cell_type": "code",
   "execution_count": 7,
   "metadata": {},
   "outputs": [],
   "source": [
    "import pypi_api"
   ]
  },
  {
   "cell_type": "code",
   "execution_count": 27,
   "metadata": {},
   "outputs": [],
   "source": [
    "packages = pypi_api.get_packages()"
   ]
  },
  {
   "cell_type": "code",
   "execution_count": 123,
   "metadata": {},
   "outputs": [],
   "source": [
    "# collect a subet of package metadata\n",
    "\n",
    "package_metadata = {}\n",
    "for package in packages[1000:1010]:\n",
    "    package_metadata[package] = pypi_api.get_package_metadata(package)"
   ]
  },
  {
   "cell_type": "code",
   "execution_count": 124,
   "metadata": {},
   "outputs": [
    {
     "name": "stdout",
     "output_type": "stream",
     "text": [
      "Package downloaded successfully.\n"
     ]
    }
   ],
   "source": [
    "# Download ZIP of some package\n",
    "\n",
    "name = 'abbr'\n",
    "for obj in package_metadata[name]['urls']:\n",
    "    if obj['url'].endswith('.tar.gz'):\n",
    "        print(pypi_api.download_package_zip(name, obj['url']))"
   ]
  },
  {
   "cell_type": "code",
   "execution_count": 114,
   "metadata": {},
   "outputs": [],
   "source": [
    "# import zipfile\n",
    "\n",
    "# def download_file_content(base_path: str, zip_ref: zipfile.ZipFile, file_info: zipfile.ZipInfo):\n",
    "\n",
    "#     try:\n",
    "#         with zip_ref.open(file_info.filename) as file:\n",
    "#             path = f'{base_path}/extracted_files/{file_info.filename}'\n",
    "\n",
    "#             # create directory if it doesn't exist\n",
    "#             os.makedirs(os.path.dirname(path), exist_ok=True)\n",
    "            \n",
    "#             # download file\n",
    "#             with open(path, 'wb') as file:\n",
    "#                 content = file.read().decode('utf-8') \n",
    "#                 for chunk in content.iter_content(chunk_size=8192):\n",
    "#                     file.write(chunk)\n",
    "#             return \"File downloaded successfully.\"\n",
    "#     except Exception as e:\n",
    "#         return f\"Failed to download file. Error: {e}\"\n",
    "\n",
    "\n",
    "# def unzip(package_name: str):\n",
    "#     base_path = f'downloads/{package_name}'\n",
    "#     zip_file_path = f'{base_path}/downloaded_package.zip'\n",
    "\n",
    "#     with zipfile.ZipFile(zip_file_path, 'r') as zip_ref:\n",
    "#         zip_ref.extractall('extracted_files')\n",
    "#         for file_info in zip_ref.infolist():\n",
    "#             response = download_file_content(\n",
    "#                 base_path=base_path, zip_ref=zip_ref, file_info=file_info\n",
    "#             )\n",
    "#             print(response)\n"
   ]
  },
  {
   "cell_type": "code",
   "execution_count": null,
   "metadata": {},
   "outputs": [],
   "source": []
  }
 ],
 "metadata": {
  "kernelspec": {
   "display_name": "venv",
   "language": "python",
   "name": "python3"
  },
  "language_info": {
   "codemirror_mode": {
    "name": "ipython",
    "version": 3
   },
   "file_extension": ".py",
   "mimetype": "text/x-python",
   "name": "python",
   "nbconvert_exporter": "python",
   "pygments_lexer": "ipython3",
   "version": "3.9.6"
  }
 },
 "nbformat": 4,
 "nbformat_minor": 2
}
